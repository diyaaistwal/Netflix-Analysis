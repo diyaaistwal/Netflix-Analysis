{
  "nbformat": 4,
  "nbformat_minor": 0,
  "metadata": {
    "colab": {
      "provenance": [],
      "authorship_tag": "ABX9TyOKWxcNB0dI15qWIoMJov3X",
      "include_colab_link": true
    },
    "kernelspec": {
      "name": "python3",
      "display_name": "Python 3"
    },
    "language_info": {
      "name": "python"
    }
  },
  "cells": [
    {
      "cell_type": "markdown",
      "metadata": {
        "id": "view-in-github",
        "colab_type": "text"
      },
      "source": [
        "<a href=\"https://colab.research.google.com/github/diyaaistwal/Netflix-Analysis/blob/main/netflix_analysis.ipynb\" target=\"_parent\"><img src=\"https://colab.research.google.com/assets/colab-badge.svg\" alt=\"Open In Colab\"/></a>"
      ]
    },
    {
      "cell_type": "markdown",
      "source": [
        "# **Netflix Data Analysis project**\n",
        "\"\"\"\n",
        "## Overview\n",
        "\n",
        "Welcome to the Netflix Data Analysis project! In this comprehensive data analysis project, you will explore and analyze the vast dataset provided\n",
        "by Netflix, employing the powerful Pandas library in Python. Tailored for intermediate-level programmers, this project is designed for individuals eager\n",
        "to unravel insights from real-world entertainment data and who possess some prior experience in Python programming.\n",
        "\n",
        "## Project Description\n",
        "\n",
        "### TASKS\n",
        "\n",
        "\n",
        "Task-1 **Data Acquisition:** Learn how to effortlessly load and read datasets into your Python environment.\n",
        "\n",
        "Task-2,Task-3 **Data Preprocessing:** Learn cleaning and transforming the raw data to make it suitable for analysis.\n",
        "\n",
        "Task-4,Task-5 **Exploratory Data Analysis (EDA):** Explore the dataset using statistical summaries, visualizations, and other techniques to uncover patterns, trends, and relationships within the data\n",
        "\n",
        "Task-6,Task-7 **Statistical Analysis:** Learn to perform various statistical tests and calculations to quantify relationships between variables, identify outliers, and assess the significance of findings.\n",
        "\n",
        "\n",
        "### Tools and Libraries\n",
        "\n",
        "- Python\n",
        "\n",
        "## Pre-requisites\n",
        "\n",
        "1. Python Fundamentals\n",
        "2. Pandas\n",
        "\"\"\"\n"
      ],
      "metadata": {
        "id": "K7dsCugOzfW9"
      }
    },
    {
      "cell_type": "markdown",
      "source": [
        "## **TASK 1**\n",
        "\"\"\"\n",
        "*  You are required to load the dataframe using *'pandas'* library.\n",
        "*  Data path is provided as *data_path* as a parameter.\n",
        "*  Base function is provided below(load_dataset), return the dataframe with first 5 rows. \"\"\""
      ],
      "metadata": {
        "id": "MrtlX9zLzZ4t"
      }
    },
    {
      "cell_type": "code",
      "source": [
        "import pandas as pd\n",
        "df = pd.read_csv('dataset_netflix.csv', delimiter=',', skiprows=1)\n",
        "\n",
        "print(df.head())\n"
      ],
      "metadata": {
        "colab": {
          "base_uri": "https://localhost:8080/"
        },
        "id": "Q_BVJ8xgxeL_",
        "outputId": "b860208b-ed7f-4042-e98f-c3bae61f2712"
      },
      "execution_count": 20,
      "outputs": [
        {
          "output_type": "stream",
          "name": "stdout",
          "text": [
            "  show_id     type                             title         director  \\\n",
            "0      s1    Movie              Dick Johnson Is Dead  Kirsten Johnson   \n",
            "1      s3  TV Show                         Ganglands  Julien Leclercq   \n",
            "2      s6  TV Show                     Midnight Mass    Mike Flanagan   \n",
            "3     s14    Movie  Confessions of an Invisible Girl    Bruno Garotti   \n",
            "4      s8    Movie                           Sankofa     Haile Gerima   \n",
            "\n",
            "         country date_added  release_year rating  duration  \\\n",
            "0  United States  9/25/2021          2020  PG-13        90   \n",
            "1         France  9/24/2021          2021  TV-MA  1 Season   \n",
            "2  United States  9/24/2021          2021  TV-MA  1 Season   \n",
            "3         Brazil  9/22/2021          2021  TV-PG        91   \n",
            "4  United States  9/24/2021          1993  TV-MA       125   \n",
            "\n",
            "                                           listed_in  \n",
            "0                                      Documentaries  \n",
            "1  Crime TV Shows, International TV Shows, TV Act...  \n",
            "2                 TV Dramas, TV Horror, TV Mysteries  \n",
            "3                 Children & Family Movies, Comedies  \n",
            "4   Dramas, Independent Movies, International Movies  \n"
          ]
        }
      ]
    },
    {
      "cell_type": "markdown",
      "source": [
        "## **TASK 2**\n",
        "\n",
        "* \"Not Given\" values may indicate missing or incomplete data. By removing them, you can improve the overall quality of the dataset and ensure that it accurately represents the phenomena under study.\n",
        "* You are required to drop those rows of given dataframe whose *director* or *country*  column  values are mentioned as \"Not Given\" and return the filtered dataframe.\n",
        "* DataFrame is provided below as *df* as a parameter.\n",
        "* Base function is provided below(data_preprocessing) and return the first 5 rows in dataframe after processing."
      ],
      "metadata": {
        "id": "mx_sd11PzWMj"
      }
    },
    {
      "cell_type": "code",
      "source": [
        "column_names = ['show_id', 'type', 'title', 'director', 'country', 'date_added', 'release_year', 'rating', 'duration', 'listed_in']\n",
        "df.columns = column_names\n",
        "print(df.head())\n",
        "\n"
      ],
      "metadata": {
        "colab": {
          "base_uri": "https://localhost:8080/"
        },
        "id": "c0-9I2kb11Cg",
        "outputId": "0868a67f-2686-43c8-9abb-c25a08b92ea6"
      },
      "execution_count": 21,
      "outputs": [
        {
          "output_type": "stream",
          "name": "stdout",
          "text": [
            "  show_id     type                             title         director  \\\n",
            "0      s1    Movie              Dick Johnson Is Dead  Kirsten Johnson   \n",
            "1      s3  TV Show                         Ganglands  Julien Leclercq   \n",
            "2      s6  TV Show                     Midnight Mass    Mike Flanagan   \n",
            "3     s14    Movie  Confessions of an Invisible Girl    Bruno Garotti   \n",
            "4      s8    Movie                           Sankofa     Haile Gerima   \n",
            "\n",
            "         country date_added  release_year rating  duration  \\\n",
            "0  United States  9/25/2021          2020  PG-13        90   \n",
            "1         France  9/24/2021          2021  TV-MA  1 Season   \n",
            "2  United States  9/24/2021          2021  TV-MA  1 Season   \n",
            "3         Brazil  9/22/2021          2021  TV-PG        91   \n",
            "4  United States  9/24/2021          1993  TV-MA       125   \n",
            "\n",
            "                                           listed_in  \n",
            "0                                      Documentaries  \n",
            "1  Crime TV Shows, International TV Shows, TV Act...  \n",
            "2                 TV Dramas, TV Horror, TV Mysteries  \n",
            "3                 Children & Family Movies, Comedies  \n",
            "4   Dramas, Independent Movies, International Movies  \n"
          ]
        }
      ]
    },
    {
      "cell_type": "code",
      "source": [
        "def data_preprocessing(df):\n",
        "  df['director'].replace('Not Given', pd.NA, inplace=True)\n",
        "  df['country'].replace('Not Given', pd.NA, inplace=True)\n",
        "  df.dropna(subset=['director', 'country'], inplace=True)\n",
        "  return df\n",
        "\n",
        "filtered_df=data_preprocessing(df)\n",
        "print(filtered_df.head())\n",
        "\n"
      ],
      "metadata": {
        "colab": {
          "base_uri": "https://localhost:8080/"
        },
        "id": "k7cg_1xNxnuQ",
        "outputId": "2b2dea7b-0700-4239-e0b3-dfa70aca5267"
      },
      "execution_count": 22,
      "outputs": [
        {
          "output_type": "stream",
          "name": "stdout",
          "text": [
            "  show_id     type                             title         director  \\\n",
            "0      s1    Movie              Dick Johnson Is Dead  Kirsten Johnson   \n",
            "1      s3  TV Show                         Ganglands  Julien Leclercq   \n",
            "2      s6  TV Show                     Midnight Mass    Mike Flanagan   \n",
            "3     s14    Movie  Confessions of an Invisible Girl    Bruno Garotti   \n",
            "4      s8    Movie                           Sankofa     Haile Gerima   \n",
            "\n",
            "         country date_added  release_year rating  duration  \\\n",
            "0  United States  9/25/2021          2020  PG-13        90   \n",
            "1         France  9/24/2021          2021  TV-MA  1 Season   \n",
            "2  United States  9/24/2021          2021  TV-MA  1 Season   \n",
            "3         Brazil  9/22/2021          2021  TV-PG        91   \n",
            "4  United States  9/24/2021          1993  TV-MA       125   \n",
            "\n",
            "                                           listed_in  \n",
            "0                                      Documentaries  \n",
            "1  Crime TV Shows, International TV Shows, TV Act...  \n",
            "2                 TV Dramas, TV Horror, TV Mysteries  \n",
            "3                 Children & Family Movies, Comedies  \n",
            "4   Dramas, Independent Movies, International Movies  \n"
          ]
        },
        {
          "output_type": "stream",
          "name": "stderr",
          "text": [
            "<ipython-input-22-a1bc3bc68720>:2: FutureWarning: A value is trying to be set on a copy of a DataFrame or Series through chained assignment using an inplace method.\n",
            "The behavior will change in pandas 3.0. This inplace method will never work because the intermediate object on which we are setting values always behaves as a copy.\n",
            "\n",
            "For example, when doing 'df[col].method(value, inplace=True)', try using 'df.method({col: value}, inplace=True)' or df[col] = df[col].method(value) instead, to perform the operation inplace on the original object.\n",
            "\n",
            "\n",
            "  df['director'].replace('Not Given', pd.NA, inplace=True)\n",
            "<ipython-input-22-a1bc3bc68720>:3: FutureWarning: A value is trying to be set on a copy of a DataFrame or Series through chained assignment using an inplace method.\n",
            "The behavior will change in pandas 3.0. This inplace method will never work because the intermediate object on which we are setting values always behaves as a copy.\n",
            "\n",
            "For example, when doing 'df[col].method(value, inplace=True)', try using 'df.method({col: value}, inplace=True)' or df[col] = df[col].method(value) instead, to perform the operation inplace on the original object.\n",
            "\n",
            "\n",
            "  df['country'].replace('Not Given', pd.NA, inplace=True)\n"
          ]
        }
      ]
    },
    {
      "cell_type": "markdown",
      "source": [
        "## **TASK 3**\n",
        "\n",
        "* Breaking a timestamp into separate components like month, year, and date can be advantageous for various reasons:\n",
        "\n",
        "  *   Granular Analysis: For a Netflix dataset, breaking timestamps into separate components like month, year, and date allows analysts to perform granular analysis of user behavior.\n",
        "\n",
        "  *   Facilitates Filtering and Grouping: This could involve calculating metrics such as total viewing hours per month, average number of sessions per year, or most popular genres by month.\n",
        "\n",
        "\n",
        "* You are required to add columns such as 'month_added', 'year_added', and 'day_added'.\n",
        "* Ensure that the 'month_added' column is named with full month names(like 'September') and the 'day_added' column is named with full day names (like 'Saturday').\n",
        "* DataFrame is provided below as *df* as a parameter.\n",
        "* Base function is provided below(date_preprocessing) and specifically return the str(date_added value for Ganglands in the DataFrame)."
      ],
      "metadata": {
        "id": "a51PyIzG_0ku"
      }
    },
    {
      "cell_type": "code",
      "source": [
        "def date_preprocessing(df):\n",
        "  df['date_added']=pd.to_datetime(df['date_added'],errors='coerce')\n",
        "  df['month_added']=df['date_added'].dt.month_name()\n",
        "  df['day_added']=df['date_added'].dt.day_name()\n",
        "  df['year_added']=df['date_added'].dt.year\n",
        "  res=df[df['title']=='Ganglands']\n",
        "  return res['date_added']\n",
        "\n",
        "print(date_preprocessing(df))\n",
        ""
      ],
      "metadata": {
        "colab": {
          "base_uri": "https://localhost:8080/"
        },
        "id": "nZS0-NXi_mYY",
        "outputId": "70736a44-3177-4e18-e8af-d61a2bed3e82"
      },
      "execution_count": 26,
      "outputs": [
        {
          "output_type": "stream",
          "name": "stdout",
          "text": [
            "1   2021-09-24\n",
            "Name: date_added, dtype: datetime64[ns]\n"
          ]
        }
      ]
    },
    {
      "cell_type": "markdown",
      "source": [
        "## **TASK 4**\n",
        "* We're tasked with assisting Netflix in determining the total count of TV shows available on their platform. Let's find out how many TV shows are in the dataframe.\n",
        "* In TV Show, 'type' column value is 'TV Show' in the given dataframe.\n",
        "* DataFrame is provided below as *df* as a parameter.\n",
        "* Base function is provided below(exploratory_data_analysis1) and return number of the TV Shows."
      ],
      "metadata": {
        "id": "sfwCSF8RC65T"
      }
    },
    {
      "cell_type": "code",
      "source": [
        "def exploratory_data_analysis1(df):\n",
        "  tv_shows_df=df[df['type']=='TV Show']\n",
        "  tv_show_count=tv_shows_df.shape[0]\n",
        "  return tv_show_count\n",
        "\n",
        "result=exploratory_data_analysis1(df)\n",
        "print(result)\n"
      ],
      "metadata": {
        "colab": {
          "base_uri": "https://localhost:8080/"
        },
        "id": "zDjfLqITA2De",
        "outputId": "91ba1eb7-69d2-458d-b811-aad7f693b612"
      },
      "execution_count": 27,
      "outputs": [
        {
          "output_type": "stream",
          "name": "stdout",
          "text": [
            "219\n"
          ]
        }
      ]
    },
    {
      "cell_type": "markdown",
      "source": [
        "## **TASK 5**\n",
        "* Netflix is interested in finding out how many movies were released during their high-demand month of December. Let's help them by identifying the number of movies released in December from the dataset.\n",
        "* You are required to count of *Movie* released in *December* month.\n",
        "* DataFrame is provided below as *df* as a parameter.\n",
        "* Base function is provided below(exploratory_data_analysis2)  and return name of the resultant country from the given dataframe.\n",
        "\n",
        "\n"
      ],
      "metadata": {
        "id": "jidBcBNy5oEm"
      }
    },
    {
      "cell_type": "code",
      "source": [
        "movies_df = df[df['type'] == 'Movie']\n",
        "december_movies = movies_df[movies_df['date_added'].dt.month_name() == 'December']\n",
        "print(december_movies.shape[0])"
      ],
      "metadata": {
        "colab": {
          "base_uri": "https://localhost:8080/"
        },
        "id": "rLDuw6Nd5rBs",
        "outputId": "6c246f8c-6934-4515-a374-6e8808579401"
      },
      "execution_count": 28,
      "outputs": [
        {
          "output_type": "stream",
          "name": "stdout",
          "text": [
            "309\n"
          ]
        }
      ]
    },
    {
      "cell_type": "markdown",
      "source": [
        "## **TASK 6**\n",
        "* Netflix wants to ensure that their average movie length is not excessively long, as it may bore their customers.\n",
        "* To assist them, let's calculate the median movie length on their platform.\n",
        "* You are required to find median duration of a movies .\n",
        "* DataFrame is provided below as *df* as a parameter.\n",
        "* Base function is provided below(statistical_analysis1)  and return median the given dataframe.\n",
        "\n"
      ],
      "metadata": {
        "id": "FDn6j8217v2l"
      }
    },
    {
      "cell_type": "code",
      "source": [
        "movies_df['duration'] = movies_df['duration'].str.replace(' min', '').astype(float)\n",
        "print(movies_df['duration'].median())\n"
      ],
      "metadata": {
        "colab": {
          "base_uri": "https://localhost:8080/"
        },
        "id": "wdwb35hi7y3E",
        "outputId": "9b2a890f-4d49-458d-fed1-e3ec12fbae17"
      },
      "execution_count": 29,
      "outputs": [
        {
          "output_type": "stream",
          "name": "stdout",
          "text": [
            "99.0\n"
          ]
        },
        {
          "output_type": "stream",
          "name": "stderr",
          "text": [
            "<ipython-input-29-f9d3bb491c61>:1: SettingWithCopyWarning: \n",
            "A value is trying to be set on a copy of a slice from a DataFrame.\n",
            "Try using .loc[row_indexer,col_indexer] = value instead\n",
            "\n",
            "See the caveats in the documentation: https://pandas.pydata.org/pandas-docs/stable/user_guide/indexing.html#returning-a-view-versus-a-copy\n",
            "  movies_df['duration'] = movies_df['duration'].str.replace(' min', '').astype(float)\n"
          ]
        }
      ]
    },
    {
      "cell_type": "markdown",
      "source": [
        "## **TASK 7**\n",
        "\n",
        "* You are required to find the country having maximum TV shows and Movies.\n",
        "* DataFrame is provided below as *df* as a parameter.\n",
        "* Base function is provided below(statistical_analysis2)  and return name of the resultant country from the given dataframe.\n",
        "\n"
      ],
      "metadata": {
        "id": "5-wOjM6f92Vl"
      }
    },
    {
      "cell_type": "code",
      "source": [
        "def statistical_analysis(df):\n",
        "    max_country = df['country'].mode()[0]\n",
        "    return max_country\n",
        "\n",
        "resultant_country = statistical_analysis(df)\n",
        "print(\"Country with maximum TV shows and movies:\", resultant_country)\n"
      ],
      "metadata": {
        "colab": {
          "base_uri": "https://localhost:8080/"
        },
        "id": "hTAvxjGl9dX2",
        "outputId": "6e21fc6e-3ca6-4fef-ca7e-3698f5eb9444"
      },
      "execution_count": 30,
      "outputs": [
        {
          "output_type": "stream",
          "name": "stdout",
          "text": [
            "Country with maximum TV shows and movies: United States\n"
          ]
        }
      ]
    },
    {
      "cell_type": "code",
      "source": [],
      "metadata": {
        "id": "1hfmbwE1-K1o"
      },
      "execution_count": null,
      "outputs": []
    }
  ]
}